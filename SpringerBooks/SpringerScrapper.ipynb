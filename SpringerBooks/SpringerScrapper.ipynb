{
 "cells": [
  {
   "cell_type": "code",
   "execution_count": 74,
   "metadata": {},
   "outputs": [],
   "source": [
    "import pandas as pd\n",
    "import re\n",
    "import wget\n",
    "from requests import get\n",
    "from bs4 import BeautifulSoup"
   ]
  },
  {
   "cell_type": "code",
   "execution_count": 6,
   "metadata": {},
   "outputs": [],
   "source": [
    "df = pd.read_excel(\"books_spring.xlsx\")"
   ]
  },
  {
   "cell_type": "code",
   "execution_count": 73,
   "metadata": {
    "collapsed": true,
    "jupyter": {
     "outputs_hidden": true
    }
   },
   "outputs": [
    {
     "name": "stdout",
     "output_type": "stream",
     "text": [
      "Successfully created the directory C:\\Users\\Familia\\Desktop\\books\\Behavioral Science \n",
      "Successfully created the directory C:\\Users\\Familia\\Desktop\\books\\Behavioral Science and Psychology \n",
      "Successfully created the directory C:\\Users\\Familia\\Desktop\\books\\Biomedical and Life Sciences \n",
      "Successfully created the directory C:\\Users\\Familia\\Desktop\\books\\Business and Economics \n",
      "Successfully created the directory C:\\Users\\Familia\\Desktop\\books\\Business and Management \n",
      "Successfully created the directory C:\\Users\\Familia\\Desktop\\books\\Chemistry and Materials Science \n",
      "Successfully created the directory C:\\Users\\Familia\\Desktop\\books\\Computer Science \n",
      "Successfully created the directory C:\\Users\\Familia\\Desktop\\books\\Earth and Environmental Science \n",
      "Successfully created the directory C:\\Users\\Familia\\Desktop\\books\\Economics and Finance \n",
      "Successfully created the directory C:\\Users\\Familia\\Desktop\\books\\Education \n",
      "Successfully created the directory C:\\Users\\Familia\\Desktop\\books\\Energy \n",
      "Successfully created the directory C:\\Users\\Familia\\Desktop\\books\\Engineering \n",
      "Successfully created the directory C:\\Users\\Familia\\Desktop\\books\\Humanities, Social Sciences and Law \n",
      "Successfully created the directory C:\\Users\\Familia\\Desktop\\books\\Intelligent Technologies and Robotics \n",
      "Successfully created the directory C:\\Users\\Familia\\Desktop\\books\\Law and Criminology \n",
      "Successfully created the directory C:\\Users\\Familia\\Desktop\\books\\Literature, Cultural and Media Studies \n",
      "Successfully created the directory C:\\Users\\Familia\\Desktop\\books\\Mathematics and Statistics \n",
      "Successfully created the directory C:\\Users\\Familia\\Desktop\\books\\Medicine \n",
      "Successfully created the directory C:\\Users\\Familia\\Desktop\\books\\Physics and Astronomy \n",
      "Successfully created the directory C:\\Users\\Familia\\Desktop\\books\\Religion and Philosophy \n",
      "Successfully created the directory C:\\Users\\Familia\\Desktop\\books\\Social Sciences \n"
     ]
    }
   ],
   "source": [
    "# import the os module\n",
    "import os\n",
    "\n",
    "for i in df['English Package Name'].unique():\n",
    "    \n",
    "    path = os.getcwd()\n",
    "    \n",
    "    path = path+\"\\\\\"+i\n",
    "\n",
    "    try:\n",
    "        os.mkdir(path)\n",
    "    except OSError:\n",
    "        print (\"Creation of the directory %s failed\" % path)\n",
    "    else:\n",
    "        print (\"Successfully created the directory %s \" % path)"
   ]
  },
  {
   "cell_type": "code",
   "execution_count": 97,
   "metadata": {},
   "outputs": [],
   "source": [
    "lista=[]\n",
    "for i in range(0,len(df)):\n",
    "    \n",
    "    try:\n",
    "        url = df['OpenURL'][i]\n",
    "        response = get(url)\n",
    "        target=re.search('href=\"/.*[0-9].pdf\" ',response.text)[0]\n",
    "        target=re.search('\".*\"',target)[0]\n",
    "        target=target[1:]\n",
    "        target=target[:-1]\n",
    "        \n",
    "        url_new=\"https://link.springer.com/\"+target\n",
    "        \n",
    "    except:\n",
    "        url_new=\"null\"\n",
    "    \n",
    "    lista.append(url_new)"
   ]
  },
  {
   "cell_type": "code",
   "execution_count": 99,
   "metadata": {},
   "outputs": [],
   "source": [
    "df['d_url']=pd.Series(lista)"
   ]
  },
  {
   "cell_type": "code",
   "execution_count": 109,
   "metadata": {},
   "outputs": [
    {
     "name": "stdout",
     "output_type": "stream",
     "text": [
      "100% [..........................................................................] 7408145 / 7408145"
     ]
    }
   ],
   "source": [
    "for i in range(170,len(df)):   \n",
    "    url_down=os.getcwd()+\"\\\\\"+df['English Package Name'][i]+\"\\\\\"+df['Book Title'][i][0:20]+\".pdf\"\n",
    "    wget.download(df['d_url'][i],url_down )"
   ]
  }
 ],
 "metadata": {
  "kernelspec": {
   "display_name": "Python 3",
   "language": "python",
   "name": "python3"
  },
  "language_info": {
   "codemirror_mode": {
    "name": "ipython",
    "version": 3
   },
   "file_extension": ".py",
   "mimetype": "text/x-python",
   "name": "python",
   "nbconvert_exporter": "python",
   "pygments_lexer": "ipython3",
   "version": "3.7.6"
  }
 },
 "nbformat": 4,
 "nbformat_minor": 4
}
