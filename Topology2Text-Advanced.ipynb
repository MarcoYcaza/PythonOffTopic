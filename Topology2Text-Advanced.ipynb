{
 "cells": [
  {
   "cell_type": "code",
   "execution_count": 2,
   "metadata": {},
   "outputs": [],
   "source": [
    "import pandas as pd\n",
    "import os\n"
   ]
  },
  {
   "cell_type": "code",
   "execution_count": 3,
   "metadata": {},
   "outputs": [],
   "source": [
    "cus = pd.read_excel(\"codigos_unicos_revD.xlsx\")  # dataframe con codigos unicos \n",
    "\n",
    "mReadedFiles = [open('CAJAMARCA_ICA/'+f,'r').read() for f in os.listdir(\"CAJAMARCA_ICA\")]\n",
    "\n",
    "mExtractedMaps = [e[e.find(\"+---\"):e.find(\"q!!\")] for e in mReadedFiles]   # lista con los caracteres de topologia \"mapas\"\n",
    "\n",
    "mExtractedNames =  [k[k.find(\"\\n\\n\")+2:len(k)-2] for k in mExtractedMaps]  # lista con los nombres de cada topología\n"
   ]
  },
  {
   "cell_type": "code",
   "execution_count": 4,
   "metadata": {},
   "outputs": [],
   "source": [
    "myDataframe = pd.DataFrame(mExtractedNames,columns=[\"names\"])  #construimos un dataframe con los nombres y los mapas\n",
    "myDataframe[\"maps\"] = mExtractedMaps"
   ]
  },
  {
   "cell_type": "code",
   "execution_count": 7,
   "metadata": {
    "tags": []
   },
   "outputs": [
    {
     "output_type": "stream",
     "name": "stdout",
     "text": "630\n"
    },
    {
     "output_type": "execute_result",
     "data": {
      "text/plain": "             names                                               maps\n0     SRIC1_FUNSUR  +---------+              +-----------+        ...\n1   4GIC4_JAZMINES  +---------+           +--------------+\\n|     ...\n2  4GIC4_EL_ARENAL  +---------+           +--------------+\\n|     ...\n3          URTEAGA  +---------+             +-----------+\\n|      ...\n4     4GCA_REVILLA  +---------+           +--------------+\\n|     ...",
      "text/html": "<div>\n<style scoped>\n    .dataframe tbody tr th:only-of-type {\n        vertical-align: middle;\n    }\n\n    .dataframe tbody tr th {\n        vertical-align: top;\n    }\n\n    .dataframe thead th {\n        text-align: right;\n    }\n</style>\n<table border=\"1\" class=\"dataframe\">\n  <thead>\n    <tr style=\"text-align: right;\">\n      <th></th>\n      <th>names</th>\n      <th>maps</th>\n    </tr>\n  </thead>\n  <tbody>\n    <tr>\n      <th>0</th>\n      <td>SRIC1_FUNSUR</td>\n      <td>+---------+              +-----------+        ...</td>\n    </tr>\n    <tr>\n      <th>1</th>\n      <td>4GIC4_JAZMINES</td>\n      <td>+---------+           +--------------+\\n|     ...</td>\n    </tr>\n    <tr>\n      <th>2</th>\n      <td>4GIC4_EL_ARENAL</td>\n      <td>+---------+           +--------------+\\n|     ...</td>\n    </tr>\n    <tr>\n      <th>3</th>\n      <td>URTEAGA</td>\n      <td>+---------+             +-----------+\\n|      ...</td>\n    </tr>\n    <tr>\n      <th>4</th>\n      <td>4GCA_REVILLA</td>\n      <td>+---------+           +--------------+\\n|     ...</td>\n    </tr>\n  </tbody>\n</table>\n</div>"
     },
     "metadata": {},
     "execution_count": 7
    }
   ],
   "source": [
    "print(len(myDataframe))\n",
    "myDataframe.head()"
   ]
  },
  {
   "cell_type": "code",
   "execution_count": 14,
   "metadata": {},
   "outputs": [],
   "source": [
    "_ = pd.merge(myDataframe,cus,left_on=\"names\",right_on=\"baseband\")\n",
    "merged_df = _.sort_values(by=['CU']).reset_index(drop=True)"
   ]
  },
  {
   "cell_type": "code",
   "execution_count": 17,
   "metadata": {},
   "outputs": [],
   "source": [
    "a = merged_df[\"CU\"].value_counts().index\n",
    "b = list(merged_df[\"CU\"].value_counts())\n",
    "\n",
    "c=pd.DataFrame(zip(a,b),columns=[\"CU\",\"counts\"]).sort_values(\"CU\").reset_index(drop=True)"
   ]
  },
  {
   "cell_type": "code",
   "execution_count": 18,
   "metadata": {},
   "outputs": [],
   "source": [
    "cuentas = c[\"counts\"]"
   ]
  },
  {
   "cell_type": "code",
   "execution_count": 33,
   "metadata": {},
   "outputs": [],
   "source": [
    "k=0\n",
    "\n",
    "for i in cuentas: # recorremos todas las cuentas\n",
    "    \n",
    "    for n in range(k,i+k):  #recorremos una cuenta en particular \n",
    "        \n",
    "        info =  (merged_df[\"CU\"][n],merged_df[\"baseband\"][n],merged_df[\"maps\"][n])\n",
    "        \n",
    "        myFile = open(\"RESULTADO/\"+info[0]+\"_.txt\",\"a\")\n",
    "        \n",
    "        myFile.write(info[1]+\"\\n\")\n",
    "        \n",
    "        myFile.write(info[2]+\"\\n\")\n",
    "        \n",
    "        myFile.write(\"---------------------------------------------------- \\n\")\n",
    "        \n",
    "        k=k+1 # actualizamos la posición de recorrido\n",
    "        \n",
    "    myFile.close()\n",
    "        "
   ]
  },
  {
   "cell_type": "code",
   "execution_count": null,
   "metadata": {},
   "outputs": [],
   "source": []
  }
 ],
 "metadata": {
  "kernelspec": {
   "display_name": "Python 3",
   "language": "python",
   "name": "python3"
  }
 },
 "nbformat": 4,
 "nbformat_minor": 4
}